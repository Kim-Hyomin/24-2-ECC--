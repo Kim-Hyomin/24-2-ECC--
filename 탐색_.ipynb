{
 "cells": [
  {
   "cell_type": "code",
   "execution_count": 1,
   "id": "b57229d0",
   "metadata": {},
   "outputs": [
    {
     "name": "stdout",
     "output_type": "stream",
     "text": [
      "3\n",
      "8 5\n",
      "1 100\n",
      "3 5\n",
      "3\n"
     ]
    }
   ],
   "source": [
    "# 계란으로 계란치기\n",
    "\n",
    "def check(eggs):\n",
    "    cnt = 0\n",
    "    for e in eggs:\n",
    "        if e[0] <= 0:\n",
    "            cnt += 1\n",
    "    return cnt\n",
    "\n",
    "\n",
    "def solution(depth, arr):\n",
    "    global answer\n",
    "    if depth == n:\n",
    "        answer = max(answer, check(arr))\n",
    "        return\n",
    "    # 현재 들고있는 계란이 깨졌을때\n",
    "    if arr[depth][0] <= 0:\n",
    "        solution(depth + 1, arr)\n",
    "    else:\n",
    "        isBroken = True\n",
    "        for i in range(n):\n",
    "            if depth != i and arr[i][0] > 0:\n",
    "                isBroken = False\n",
    "                arr[depth][0] -= arr[i][1]\n",
    "                arr[i][0] -= arr[depth][1]\n",
    "                solution(depth + 1, arr)\n",
    "                arr[depth][0] += arr[i][1]\n",
    "                arr[i][0] += arr[depth][1]\n",
    "        if isBroken:\n",
    "            solution(n, arr)\n",
    "\n",
    "\n",
    "n = int(input())\n",
    "egg = [list(map(int, input().split())) for _ in range(n)]\n",
    "answer = 0\n",
    "solution(0, egg)\n",
    "print(answer)"
   ]
  },
  {
   "cell_type": "code",
   "execution_count": null,
   "id": "bb0a124c",
   "metadata": {},
   "outputs": [],
   "source": []
  }
 ],
 "metadata": {
  "kernelspec": {
   "display_name": "Python 3 (ipykernel)",
   "language": "python",
   "name": "python3"
  },
  "language_info": {
   "codemirror_mode": {
    "name": "ipython",
    "version": 3
   },
   "file_extension": ".py",
   "mimetype": "text/x-python",
   "name": "python",
   "nbconvert_exporter": "python",
   "pygments_lexer": "ipython3",
   "version": "3.10.9"
  }
 },
 "nbformat": 4,
 "nbformat_minor": 5
}
