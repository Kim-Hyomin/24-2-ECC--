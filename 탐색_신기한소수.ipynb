{
 "cells": [
  {
   "cell_type": "code",
   "execution_count": 1,
   "id": "582c3b97",
   "metadata": {},
   "outputs": [
    {
     "name": "stdout",
     "output_type": "stream",
     "text": [
      "4\n",
      "2333\n",
      "2339\n",
      "2393\n",
      "2399\n",
      "2939\n",
      "3119\n",
      "3137\n",
      "3733\n",
      "3739\n",
      "3793\n",
      "3797\n",
      "5939\n",
      "7193\n",
      "7331\n",
      "7333\n",
      "7393\n"
     ]
    }
   ],
   "source": [
    "# 신기한 소수\n",
    "\n",
    "import sys\n",
    "sys.setrecursionlimit(10000)\n",
    "n = int(input())\n",
    "def isPrime(num):\n",
    "    for i in range(2, int(num**(1/2))+1):\n",
    "        if num%i==0:\n",
    "            return False\n",
    "    return True\n",
    "\n",
    "def dfs(number):\n",
    "    if not isPrime(number):\n",
    "        return\n",
    "    if len(str(number)) == n:\n",
    "        print(number)\n",
    "    for i in range(1,10,2):\n",
    "        dfs(number*10 + i)\n",
    "    return\n",
    "\n",
    "for i in [2,3,5,7]:\n",
    "    dfs(i)"
   ]
  },
  {
   "cell_type": "code",
   "execution_count": null,
   "id": "48a9745b",
   "metadata": {},
   "outputs": [],
   "source": []
  }
 ],
 "metadata": {
  "kernelspec": {
   "display_name": "Python 3 (ipykernel)",
   "language": "python",
   "name": "python3"
  },
  "language_info": {
   "codemirror_mode": {
    "name": "ipython",
    "version": 3
   },
   "file_extension": ".py",
   "mimetype": "text/x-python",
   "name": "python",
   "nbconvert_exporter": "python",
   "pygments_lexer": "ipython3",
   "version": "3.10.9"
  }
 },
 "nbformat": 4,
 "nbformat_minor": 5
}
