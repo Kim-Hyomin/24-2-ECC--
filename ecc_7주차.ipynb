{
  "nbformat": 4,
  "nbformat_minor": 0,
  "metadata": {
    "colab": {
      "provenance": []
    },
    "kernelspec": {
      "name": "python3",
      "display_name": "Python 3"
    },
    "language_info": {
      "name": "python"
    }
  },
  "cells": [
    {
      "cell_type": "code",
      "execution_count": 24,
      "metadata": {
        "colab": {
          "base_uri": "https://localhost:8080/"
        },
        "id": "6-1I0V5mRLiz",
        "outputId": "32791444-d626-42e5-ba24-13f2e62e6fcf"
      },
      "outputs": [
        {
          "output_type": "stream",
          "name": "stdout",
          "text": [
            "2\n"
          ]
        }
      ],
      "source": [
        "#1449\n",
        "\n",
        "# N,L = map(int,input().split())\n",
        "# leak=list(map(int,input().split()))\n",
        "\n",
        "N, L = 4, 2  # N: 구멍의 개수, L: 테이프의 길이\n",
        "leak = [1, 2, 100, 101]  # 구멍의 위치\n",
        "\n",
        "leak.sort() #0.5만큼의 간격 ? = 각 센치미터 단위의 중앙에 위치하여한다는 뜻\n",
        "tape=1\n",
        "dist=0 #구멍간의 거리\n",
        "for i in range(1,N):\n",
        "    dist +=abs(leak[i]-leak[i-1])\n",
        "    if L > dist:\n",
        "        #0.5센티미터의 간격이기 때문에 같아서는 안된다. 같게되면\n",
        "        #각 테이프의 끝자락에 물이셀것임\n",
        "\n",
        "        continue\n",
        "    else:\n",
        "        tape+=1\n",
        "        dist=0\n",
        "print(tape)"
      ]
    },
    {
      "cell_type": "code",
      "source": [
        "#20920\n",
        "\n",
        "from collections import Counter\n",
        "\n",
        "# 입력 받기\n",
        "#n, m = map(int, input().split())\n",
        "#words = [input().strip() for _ in range(n)]\n",
        "\n",
        "n, m = 7, 4  # n: 단어의 개수, m: 최소 길이\n",
        "words = [\"apple\", \"ant\", \"sand\", \"apple\", \"append\", \"sand\", \"sand\"]  # 단어 리스트\n",
        "\n",
        "# 길이가 m 이상인 단어만 필터링\n",
        "filtered_words = [word for word in words if len(word) >= m]\n",
        "\n",
        "# 단어 빈도 카운팅\n",
        "word_count = Counter(filtered_words)\n",
        "\n",
        "# 정렬 조건: 1) 빈도 내림차순, 2) 길이 내림차순, 3) 알파벳 오름차순\n",
        "sorted_words = sorted(word_count.items(), key=lambda x: (-x[1], -len(x[0]), x[0]))\n",
        "\n",
        "# 결과 출력\n",
        "for word, _ in sorted_words:\n",
        "    print(word)"
      ],
      "metadata": {
        "colab": {
          "base_uri": "https://localhost:8080/"
        },
        "id": "wwxtpnnKPPg1",
        "outputId": "28f90757-840a-4b6b-c9d0-53a8694f02ae"
      },
      "execution_count": 25,
      "outputs": [
        {
          "output_type": "stream",
          "name": "stdout",
          "text": [
            "sand\n",
            "apple\n",
            "append\n"
          ]
        }
      ]
    },
    {
      "cell_type": "code",
      "source": [
        "#2212\n",
        "\n",
        "import sys\n",
        "\n",
        "#n = int(sys.stdin.readline())\n",
        "#k = int(sys.stdin.readline())\n",
        "#pos = sorted(list(map(int, sys.stdin.readline().split())))\n",
        "\n",
        "n = 6  # 센서의 개수\n",
        "k = 2  # 집중국의 개수\n",
        "pos = sorted([1, 6, 9, 3, 6, 7])  # 센서의 위치 리스트\n",
        "\n",
        "if k >= n:\n",
        "    print(0)\n",
        "    sys.exit()\n",
        "\n",
        "dist = []\n",
        "for i in range(1, n):\n",
        "    dist.append(pos[i] - pos[i-1])\n",
        "\n",
        "dist.sort(reverse=True)\n",
        "for _ in range(k-1):\n",
        "    dist.pop(0)\n",
        "\n",
        "print(sum(dist))"
      ],
      "metadata": {
        "colab": {
          "base_uri": "https://localhost:8080/"
        },
        "id": "gzNnRlM-QZWs",
        "outputId": "c464e70b-4c6b-4cea-cecd-a9c2cef41fd6"
      },
      "execution_count": 27,
      "outputs": [
        {
          "output_type": "stream",
          "name": "stdout",
          "text": [
            "5\n"
          ]
        }
      ]
    },
    {
      "cell_type": "code",
      "source": [
        "#18310\n",
        "\n",
        "#n = int(input())\n",
        "#arr = list(map(int, input().split()))\n",
        "\n",
        "n = 4  # 배열의 길이\n",
        "arr = [5, 1, 7, 9]  # 배열의 요소들\n",
        "\n",
        "# 배열 정렬\n",
        "arr.sort()\n",
        "\n",
        "\n",
        "arr.sort()\n",
        "\n",
        "print(arr[(n - 1) // 2])"
      ],
      "metadata": {
        "colab": {
          "base_uri": "https://localhost:8080/"
        },
        "id": "9rMCehppQw_x",
        "outputId": "dd67efa8-0cea-4a6e-ce6a-9ad989b9d24c"
      },
      "execution_count": 29,
      "outputs": [
        {
          "output_type": "stream",
          "name": "stdout",
          "text": [
            "5\n"
          ]
        }
      ]
    }
  ]
}