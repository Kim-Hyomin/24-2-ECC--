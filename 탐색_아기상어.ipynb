{
 "cells": [
  {
   "cell_type": "code",
   "execution_count": 1,
   "id": "e2612f55",
   "metadata": {},
   "outputs": [
    {
     "name": "stdout",
     "output_type": "stream",
     "text": [
      "5 4\n",
      "0 0 1 0\n",
      "0 0 0 0 \n",
      "1 0 0 0\n",
      "0 0 0 0\n",
      "0 0 0 1\n",
      "2\n"
     ]
    }
   ],
   "source": [
    "# 아기상어 2\n",
    "\n",
    "from collections import deque\n",
    "\n",
    "n, m = map(int, input().split())\n",
    "graph = [list(map(int, input().split())) for _ in range(n)]\n",
    "\n",
    "# 8가지 이동방향\n",
    "d = [(-1, 0), (1, 0), (0, -1), (0, 1), \n",
    "     (-1, -1), (1, -1), (-1, 1), (1, 1)]\n",
    "q = deque()\n",
    "\n",
    "def bfs():\n",
    "    while q:\n",
    "        x, y = q.popleft()\n",
    "        for dx, dy in d:\n",
    "            nx = x + dx\n",
    "            ny = y + dy\n",
    "            # 맵에서 벗어나는 경우\n",
    "            if nx < 0 or nx >= n or ny < 0 or ny >= m:\n",
    "                continue\n",
    "            \n",
    "            # 상어가 없는 지점 or 미탐색 지점인지 확인\n",
    "            if not graph[nx][ny]:\n",
    "                # 새로운 지점의 거리 정보 업데이트\n",
    "                graph[nx][ny] = graph[x][y] + 1\n",
    "                # 새로운 지점의 좌표를 큐에 삽입\n",
    "                q.append((nx, ny))\n",
    "\n",
    "# 상어의 위치에서부터 탐색 시작\n",
    "for i in range(n):\n",
    "    for j in range(m):\n",
    "        # 상어 위치일 경우\n",
    "        if graph[i][j]:\n",
    "            # 상어 위치를 큐에 삽입\n",
    "            q.append((i, j))\n",
    "\n",
    "bfs()\n",
    "\n",
    "# 정답 출력\n",
    "print(max(map(max, graph))-1)"
   ]
  },
  {
   "cell_type": "code",
   "execution_count": null,
   "id": "406205d2",
   "metadata": {},
   "outputs": [],
   "source": []
  }
 ],
 "metadata": {
  "kernelspec": {
   "display_name": "Python 3 (ipykernel)",
   "language": "python",
   "name": "python3"
  },
  "language_info": {
   "codemirror_mode": {
    "name": "ipython",
    "version": 3
   },
   "file_extension": ".py",
   "mimetype": "text/x-python",
   "name": "python",
   "nbconvert_exporter": "python",
   "pygments_lexer": "ipython3",
   "version": "3.10.9"
  }
 },
 "nbformat": 4,
 "nbformat_minor": 5
}
